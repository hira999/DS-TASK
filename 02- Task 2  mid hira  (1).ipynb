{
 "cells": [
  {
   "cell_type": "markdown",
   "id": "480d0e15",
   "metadata": {},
   "source": [
    "# Data Science QUESTION 2\n",
    "\n",
    "  \n",
    "You'll be asked to do some analysis and modeling tasks on a dataset created.  \n",
    "The dataset concerns a video gaming company that has information on its customers and would like to gain more insights on what drives their customers to play for longer hours.  \n",
    "\n",
    "The following tables are provided:"
   ]
  },
  {
   "cell_type": "code",
   "execution_count": 15,
   "id": "42bcfeb1",
   "metadata": {},
   "outputs": [],
   "source": [
    "import pandas as pd"
   ]
  },
  {
   "cell_type": "code",
   "execution_count": 16,
   "id": "44caf925",
   "metadata": {},
   "outputs": [],
   "source": [
    "df_districts_house_prices = pd.read_csv(\"df_districts_house_prices.csv\")\n",
    "df_person_data = pd.read_csv(\"df_person_data.csv\")\n",
    "df_person_district = pd.read_csv(\"df_person_district.csv\")"
   ]
  },
  {
   "cell_type": "markdown",
   "id": "2ee78568",
   "metadata": {},
   "source": [
    "df_person_district\n",
    "\n",
    "includes information about each customer (person) and the district they live in\n",
    "\n",
    "- person_id: the person id\n",
    "- district: the name of the district"
   ]
  },
  {
   "cell_type": "code",
   "execution_count": 17,
   "id": "639cb2af",
   "metadata": {},
   "outputs": [
    {
     "data": {
      "text/html": [
       "<div>\n",
       "<style scoped>\n",
       "    .dataframe tbody tr th:only-of-type {\n",
       "        vertical-align: middle;\n",
       "    }\n",
       "\n",
       "    .dataframe tbody tr th {\n",
       "        vertical-align: top;\n",
       "    }\n",
       "\n",
       "    .dataframe thead th {\n",
       "        text-align: right;\n",
       "    }\n",
       "</style>\n",
       "<table border=\"1\" class=\"dataframe\">\n",
       "  <thead>\n",
       "    <tr style=\"text-align: right;\">\n",
       "      <th></th>\n",
       "      <th>person_id</th>\n",
       "      <th>district</th>\n",
       "    </tr>\n",
       "  </thead>\n",
       "  <tbody>\n",
       "    <tr>\n",
       "      <th>0</th>\n",
       "      <td>50c4c7e2-89a6-440b-a8e3-c44aa2c6150e</td>\n",
       "      <td>Metdunstone</td>\n",
       "    </tr>\n",
       "    <tr>\n",
       "      <th>1</th>\n",
       "      <td>16f3bafb-9556-434e-adab-cb02f41fe32a</td>\n",
       "      <td>Tashnerspool</td>\n",
       "    </tr>\n",
       "    <tr>\n",
       "      <th>2</th>\n",
       "      <td>0fa17eee-7214-4609-97fe-dd3093601800</td>\n",
       "      <td>Tashnerspool</td>\n",
       "    </tr>\n",
       "    <tr>\n",
       "      <th>3</th>\n",
       "      <td>8db4ca66-dfb2-43f2-9c22-aa861dd0d218</td>\n",
       "      <td>Ulven</td>\n",
       "    </tr>\n",
       "    <tr>\n",
       "      <th>4</th>\n",
       "      <td>51fed64a-375e-417f-94e4-4d27c368ea44</td>\n",
       "      <td>Red Onvey</td>\n",
       "    </tr>\n",
       "    <tr>\n",
       "      <th>...</th>\n",
       "      <td>...</td>\n",
       "      <td>...</td>\n",
       "    </tr>\n",
       "    <tr>\n",
       "      <th>69995</th>\n",
       "      <td>8cbea1e2-3257-4db5-ae59-84faa48cfde2</td>\n",
       "      <td>Bluffssel</td>\n",
       "    </tr>\n",
       "    <tr>\n",
       "      <th>69996</th>\n",
       "      <td>e099ace5-a760-4362-a9ea-ae8cee590b86</td>\n",
       "      <td>Highnantmar</td>\n",
       "    </tr>\n",
       "    <tr>\n",
       "      <th>69997</th>\n",
       "      <td>e9b0604e-ec84-4704-8e75-eabfd59ac4fb</td>\n",
       "      <td>Tashnerspool</td>\n",
       "    </tr>\n",
       "    <tr>\n",
       "      <th>69998</th>\n",
       "      <td>e20f8ec5-0ddf-4674-ac1f-d6280b6640ab</td>\n",
       "      <td>Highnantmar</td>\n",
       "    </tr>\n",
       "    <tr>\n",
       "      <th>69999</th>\n",
       "      <td>4d86ea85-2eaf-457a-bdba-73ff21830588</td>\n",
       "      <td>San Readma</td>\n",
       "    </tr>\n",
       "  </tbody>\n",
       "</table>\n",
       "<p>70000 rows × 2 columns</p>\n",
       "</div>"
      ],
      "text/plain": [
       "                                  person_id      district\n",
       "0      50c4c7e2-89a6-440b-a8e3-c44aa2c6150e   Metdunstone\n",
       "1      16f3bafb-9556-434e-adab-cb02f41fe32a  Tashnerspool\n",
       "2      0fa17eee-7214-4609-97fe-dd3093601800  Tashnerspool\n",
       "3      8db4ca66-dfb2-43f2-9c22-aa861dd0d218         Ulven\n",
       "4      51fed64a-375e-417f-94e4-4d27c368ea44     Red Onvey\n",
       "...                                     ...           ...\n",
       "69995  8cbea1e2-3257-4db5-ae59-84faa48cfde2     Bluffssel\n",
       "69996  e099ace5-a760-4362-a9ea-ae8cee590b86   Highnantmar\n",
       "69997  e9b0604e-ec84-4704-8e75-eabfd59ac4fb  Tashnerspool\n",
       "69998  e20f8ec5-0ddf-4674-ac1f-d6280b6640ab   Highnantmar\n",
       "69999  4d86ea85-2eaf-457a-bdba-73ff21830588    San Readma\n",
       "\n",
       "[70000 rows x 2 columns]"
      ]
     },
     "execution_count": 17,
     "metadata": {},
     "output_type": "execute_result"
    }
   ],
   "source": [
    "df_person_district"
   ]
  },
  {
   "cell_type": "markdown",
   "id": "0edb6d22",
   "metadata": {},
   "source": [
    "df_districts_house_prices\n",
    "\n",
    "includes information about each district and the prices of the houses in the district\n",
    "\n",
    "- district: the name of the district\n",
    "- house_price: the price of the house\n",
    "- house_number: the house number in the district"
   ]
  },
  {
   "cell_type": "code",
   "execution_count": 18,
   "id": "c4aa1bf6",
   "metadata": {},
   "outputs": [
    {
     "data": {
      "text/html": [
       "<div>\n",
       "<style scoped>\n",
       "    .dataframe tbody tr th:only-of-type {\n",
       "        vertical-align: middle;\n",
       "    }\n",
       "\n",
       "    .dataframe tbody tr th {\n",
       "        vertical-align: top;\n",
       "    }\n",
       "\n",
       "    .dataframe thead th {\n",
       "        text-align: right;\n",
       "    }\n",
       "</style>\n",
       "<table border=\"1\" class=\"dataframe\">\n",
       "  <thead>\n",
       "    <tr style=\"text-align: right;\">\n",
       "      <th></th>\n",
       "      <th>district</th>\n",
       "      <th>house_price</th>\n",
       "      <th>house_number</th>\n",
       "    </tr>\n",
       "  </thead>\n",
       "  <tbody>\n",
       "    <tr>\n",
       "      <th>0</th>\n",
       "      <td>Celowsgan</td>\n",
       "      <td>160652.0</td>\n",
       "      <td>1</td>\n",
       "    </tr>\n",
       "    <tr>\n",
       "      <th>1</th>\n",
       "      <td>Celowsgan</td>\n",
       "      <td>159219.0</td>\n",
       "      <td>2</td>\n",
       "    </tr>\n",
       "    <tr>\n",
       "      <th>2</th>\n",
       "      <td>Celowsgan</td>\n",
       "      <td>161543.0</td>\n",
       "      <td>3</td>\n",
       "    </tr>\n",
       "    <tr>\n",
       "      <th>3</th>\n",
       "      <td>Celowsgan</td>\n",
       "      <td>158944.0</td>\n",
       "      <td>4</td>\n",
       "    </tr>\n",
       "    <tr>\n",
       "      <th>4</th>\n",
       "      <td>Celowsgan</td>\n",
       "      <td>164121.0</td>\n",
       "      <td>5</td>\n",
       "    </tr>\n",
       "    <tr>\n",
       "      <th>...</th>\n",
       "      <td>...</td>\n",
       "      <td>...</td>\n",
       "      <td>...</td>\n",
       "    </tr>\n",
       "    <tr>\n",
       "      <th>1358</th>\n",
       "      <td>El Willong</td>\n",
       "      <td>932441.0</td>\n",
       "      <td>30</td>\n",
       "    </tr>\n",
       "    <tr>\n",
       "      <th>1359</th>\n",
       "      <td>El Willong</td>\n",
       "      <td>890190.0</td>\n",
       "      <td>31</td>\n",
       "    </tr>\n",
       "    <tr>\n",
       "      <th>1360</th>\n",
       "      <td>El Willong</td>\n",
       "      <td>892096.0</td>\n",
       "      <td>32</td>\n",
       "    </tr>\n",
       "    <tr>\n",
       "      <th>1361</th>\n",
       "      <td>El Willong</td>\n",
       "      <td>935117.0</td>\n",
       "      <td>33</td>\n",
       "    </tr>\n",
       "    <tr>\n",
       "      <th>1362</th>\n",
       "      <td>El Willong</td>\n",
       "      <td>953480.0</td>\n",
       "      <td>34</td>\n",
       "    </tr>\n",
       "  </tbody>\n",
       "</table>\n",
       "<p>1363 rows × 3 columns</p>\n",
       "</div>"
      ],
      "text/plain": [
       "        district  house_price  house_number\n",
       "0      Celowsgan     160652.0             1\n",
       "1      Celowsgan     159219.0             2\n",
       "2      Celowsgan     161543.0             3\n",
       "3      Celowsgan     158944.0             4\n",
       "4      Celowsgan     164121.0             5\n",
       "...          ...          ...           ...\n",
       "1358  El Willong     932441.0            30\n",
       "1359  El Willong     890190.0            31\n",
       "1360  El Willong     892096.0            32\n",
       "1361  El Willong     935117.0            33\n",
       "1362  El Willong     953480.0            34\n",
       "\n",
       "[1363 rows x 3 columns]"
      ]
     },
     "execution_count": 18,
     "metadata": {},
     "output_type": "execute_result"
    }
   ],
   "source": [
    "df_districts_house_prices"
   ]
  },
  {
   "cell_type": "markdown",
   "id": "666909eb",
   "metadata": {},
   "source": [
    "df_person_data\n",
    "\n",
    "includes personal information about each of the customers and relevant information to their video gaming habits\n",
    "\n",
    "- person_id: identifier for a person\n",
    "- age: the age of the person\n",
    "- n_kids: the number of kids this person has\n",
    "- n_vg: the number of video games the person owns\n",
    "- n_con: the number of video game consols the person owns\n",
    "- n_presub: the number of premium subscription the person owns\n",
    "- n_hours_playing: the total number of hours this person play per month "
   ]
  },
  {
   "cell_type": "code",
   "execution_count": 19,
   "id": "31025524",
   "metadata": {
    "scrolled": true
   },
   "outputs": [
    {
     "data": {
      "text/html": [
       "<div>\n",
       "<style scoped>\n",
       "    .dataframe tbody tr th:only-of-type {\n",
       "        vertical-align: middle;\n",
       "    }\n",
       "\n",
       "    .dataframe tbody tr th {\n",
       "        vertical-align: top;\n",
       "    }\n",
       "\n",
       "    .dataframe thead th {\n",
       "        text-align: right;\n",
       "    }\n",
       "</style>\n",
       "<table border=\"1\" class=\"dataframe\">\n",
       "  <thead>\n",
       "    <tr style=\"text-align: right;\">\n",
       "      <th></th>\n",
       "      <th>person_id</th>\n",
       "      <th>age</th>\n",
       "      <th>n_kids</th>\n",
       "      <th>n_vg</th>\n",
       "      <th>n_con</th>\n",
       "      <th>n_presub</th>\n",
       "      <th>n_hours_playing</th>\n",
       "    </tr>\n",
       "  </thead>\n",
       "  <tbody>\n",
       "    <tr>\n",
       "      <th>0</th>\n",
       "      <td>50c4c7e2-89a6-440b-a8e3-c44aa2c6150e</td>\n",
       "      <td>14.0</td>\n",
       "      <td>0</td>\n",
       "      <td>0</td>\n",
       "      <td>0</td>\n",
       "      <td>0</td>\n",
       "      <td>18.422745</td>\n",
       "    </tr>\n",
       "    <tr>\n",
       "      <th>1</th>\n",
       "      <td>16f3bafb-9556-434e-adab-cb02f41fe32a</td>\n",
       "      <td>18.0</td>\n",
       "      <td>0</td>\n",
       "      <td>2</td>\n",
       "      <td>0</td>\n",
       "      <td>0</td>\n",
       "      <td>20.693273</td>\n",
       "    </tr>\n",
       "    <tr>\n",
       "      <th>2</th>\n",
       "      <td>0fa17eee-7214-4609-97fe-dd3093601800</td>\n",
       "      <td>28.0</td>\n",
       "      <td>0</td>\n",
       "      <td>3</td>\n",
       "      <td>0</td>\n",
       "      <td>0</td>\n",
       "      <td>22.412490</td>\n",
       "    </tr>\n",
       "    <tr>\n",
       "      <th>3</th>\n",
       "      <td>8db4ca66-dfb2-43f2-9c22-aa861dd0d218</td>\n",
       "      <td>20.0</td>\n",
       "      <td>1</td>\n",
       "      <td>72</td>\n",
       "      <td>0</td>\n",
       "      <td>0</td>\n",
       "      <td>299.187025</td>\n",
       "    </tr>\n",
       "    <tr>\n",
       "      <th>4</th>\n",
       "      <td>51fed64a-375e-417f-94e4-4d27c368ea44</td>\n",
       "      <td>32.0</td>\n",
       "      <td>1</td>\n",
       "      <td>58</td>\n",
       "      <td>1</td>\n",
       "      <td>3</td>\n",
       "      <td>20.367141</td>\n",
       "    </tr>\n",
       "    <tr>\n",
       "      <th>...</th>\n",
       "      <td>...</td>\n",
       "      <td>...</td>\n",
       "      <td>...</td>\n",
       "      <td>...</td>\n",
       "      <td>...</td>\n",
       "      <td>...</td>\n",
       "      <td>...</td>\n",
       "    </tr>\n",
       "    <tr>\n",
       "      <th>69995</th>\n",
       "      <td>8cbea1e2-3257-4db5-ae59-84faa48cfde2</td>\n",
       "      <td>32.0</td>\n",
       "      <td>4</td>\n",
       "      <td>62</td>\n",
       "      <td>1</td>\n",
       "      <td>2</td>\n",
       "      <td>21.378288</td>\n",
       "    </tr>\n",
       "    <tr>\n",
       "      <th>69996</th>\n",
       "      <td>e099ace5-a760-4362-a9ea-ae8cee590b86</td>\n",
       "      <td>36.0</td>\n",
       "      <td>0</td>\n",
       "      <td>53</td>\n",
       "      <td>1</td>\n",
       "      <td>1</td>\n",
       "      <td>3.707476</td>\n",
       "    </tr>\n",
       "    <tr>\n",
       "      <th>69997</th>\n",
       "      <td>e9b0604e-ec84-4704-8e75-eabfd59ac4fb</td>\n",
       "      <td>19.0</td>\n",
       "      <td>0</td>\n",
       "      <td>1</td>\n",
       "      <td>1</td>\n",
       "      <td>0</td>\n",
       "      <td>23.809075</td>\n",
       "    </tr>\n",
       "    <tr>\n",
       "      <th>69998</th>\n",
       "      <td>e20f8ec5-0ddf-4674-ac1f-d6280b6640ab</td>\n",
       "      <td>31.0</td>\n",
       "      <td>2</td>\n",
       "      <td>49</td>\n",
       "      <td>3</td>\n",
       "      <td>2</td>\n",
       "      <td>15.708397</td>\n",
       "    </tr>\n",
       "    <tr>\n",
       "      <th>69999</th>\n",
       "      <td>4d86ea85-2eaf-457a-bdba-73ff21830588</td>\n",
       "      <td>20.0</td>\n",
       "      <td>0</td>\n",
       "      <td>3</td>\n",
       "      <td>0</td>\n",
       "      <td>2</td>\n",
       "      <td>30.796314</td>\n",
       "    </tr>\n",
       "  </tbody>\n",
       "</table>\n",
       "<p>70000 rows × 7 columns</p>\n",
       "</div>"
      ],
      "text/plain": [
       "                                  person_id   age  n_kids  n_vg  n_con  \\\n",
       "0      50c4c7e2-89a6-440b-a8e3-c44aa2c6150e  14.0       0     0      0   \n",
       "1      16f3bafb-9556-434e-adab-cb02f41fe32a  18.0       0     2      0   \n",
       "2      0fa17eee-7214-4609-97fe-dd3093601800  28.0       0     3      0   \n",
       "3      8db4ca66-dfb2-43f2-9c22-aa861dd0d218  20.0       1    72      0   \n",
       "4      51fed64a-375e-417f-94e4-4d27c368ea44  32.0       1    58      1   \n",
       "...                                     ...   ...     ...   ...    ...   \n",
       "69995  8cbea1e2-3257-4db5-ae59-84faa48cfde2  32.0       4    62      1   \n",
       "69996  e099ace5-a760-4362-a9ea-ae8cee590b86  36.0       0    53      1   \n",
       "69997  e9b0604e-ec84-4704-8e75-eabfd59ac4fb  19.0       0     1      1   \n",
       "69998  e20f8ec5-0ddf-4674-ac1f-d6280b6640ab  31.0       2    49      3   \n",
       "69999  4d86ea85-2eaf-457a-bdba-73ff21830588  20.0       0     3      0   \n",
       "\n",
       "       n_presub  n_hours_playing  \n",
       "0             0        18.422745  \n",
       "1             0        20.693273  \n",
       "2             0        22.412490  \n",
       "3             0       299.187025  \n",
       "4             3        20.367141  \n",
       "...         ...              ...  \n",
       "69995         2        21.378288  \n",
       "69996         1         3.707476  \n",
       "69997         0        23.809075  \n",
       "69998         2        15.708397  \n",
       "69999         2        30.796314  \n",
       "\n",
       "[70000 rows x 7 columns]"
      ]
     },
     "execution_count": 19,
     "metadata": {},
     "output_type": "execute_result"
    }
   ],
   "source": [
    "df_person_data"
   ]
  },
  {
   "cell_type": "markdown",
   "id": "c973ca2e",
   "metadata": {},
   "source": [
    "## Quick EDA\n",
    "\n",
    "The goals of these questions is to evaluate your plotting, data mangling, and plot interpretation skills.   \n",
    "Use whatever libraries you are comfortable with.   \n",
    "Code clarity and cleanliness are also highly valuable.   "
   ]
  },
  {
   "cell_type": "markdown",
   "id": "05cd65dc",
   "metadata": {},
   "source": [
    "### 1. Plot each district's house prices distribution with marking the mean by a vertical line\n"
   ]
  },
  {
   "cell_type": "code",
   "execution_count": 22,
   "id": "0c243897",
   "metadata": {},
   "outputs": [],
   "source": [
    "import matplotlib.pyplot as plt"
   ]
  },
  {
   "cell_type": "code",
   "execution_count": 23,
   "id": "0323d355",
   "metadata": {},
   "outputs": [
    {
     "data": {
      "image/png": "[encoded data removed]",
      "text/plain": [
       "<Figure size 432x288 with 1 Axes>"
      ]
     },
     "metadata": {
      "needs_background": "light"
     },
     "output_type": "display_data"
    }
   ],
   "source": [
    "d = df_districts_house_prices['house_price']\n",
    "plt.plot(d)\n",
    "mean_value = d.mean()\n",
    "plt.axvline(mean_value, color='g', linestyle='--', label='Mean')\n",
    "plt.title('District House Prices Distribution with Mean')\n",
    "plt.xlabel('Index')\n",
    "plt.ylabel('Value')\n",
    "plt.legend()\n",
    "plt.show()"
   ]
  },
  {
   "cell_type": "markdown",
   "id": "ba555d0e",
   "metadata": {},
   "source": [
    "### 2. Combine all of the three data sources into one table to use in further analysis. "
   ]
  },
  {
   "cell_type": "code",
   "execution_count": 24,
   "id": "c832dbd4",
   "metadata": {},
   "outputs": [
    {
     "name": "stdout",
     "output_type": "stream",
     "text": [
      "                              person_id     district  house_price  \\\n",
      "0  50c4c7e2-89a6-440b-a8e3-c44aa2c6150e  Metdunstone     323177.0   \n",
      "1  50c4c7e2-89a6-440b-a8e3-c44aa2c6150e  Metdunstone          NaN   \n",
      "2  50c4c7e2-89a6-440b-a8e3-c44aa2c6150e  Metdunstone     333360.0   \n",
      "3  50c4c7e2-89a6-440b-a8e3-c44aa2c6150e  Metdunstone     319360.0   \n",
      "4  50c4c7e2-89a6-440b-a8e3-c44aa2c6150e  Metdunstone     333934.0   \n",
      "\n",
      "   house_number   age  n_kids  n_vg  n_con  n_presub  n_hours_playing  \n",
      "0             1  14.0       0     0      0         0        18.422745  \n",
      "1             2  14.0       0     0      0         0        18.422745  \n",
      "2             3  14.0       0     0      0         0        18.422745  \n",
      "3             4  14.0       0     0      0         0        18.422745  \n",
      "4             5  14.0       0     0      0         0        18.422745  \n"
     ]
    }
   ],
   "source": [
    "merged_df = pd.merge(df_person_district, df_districts_house_prices, on='district')\n",
    "merged_df = pd.merge(merged_df, df_person_data, on='person_id')\n",
    "print(merged_df.head())\n",
    "merged_df.to_csv('combined_file.csv', index=True)"
   ]
  },
  {
   "cell_type": "markdown",
   "id": "0a3bdbee",
   "metadata": {},
   "source": [
    "### 3. Plot age vs avg house price. What does this plot tell you? (younger people live in more expensive districts)"
   ]
  },
  {
   "cell_type": "code",
   "execution_count": 26,
   "id": "d156f0ef",
   "metadata": {},
   "outputs": [
    {
     "data": {
      "image/png": "[encoded data removed]",
      "text/plain": [
       "<Figure size 432x288 with 1 Axes>"
      ]
     },
     "metadata": {
      "needs_background": "light"
     },
     "output_type": "display_data"
    }
   ],
   "source": [
    "data = pd.read_csv('combined_file.csv')\n",
    "c1 = data['age']\n",
    "c2 = data['house_price']\n",
    "#Taking avg of house price\n",
    "mean_value = c2.mean()\n",
    "avg_data = pd.DataFrame({'houseprice_avg': [mean_value] * len(data), 'age': data['age']})\n",
    "#creating plot\n",
    "plt.plot(avg_data['age'],avg_data['houseprice_avg'], 'x')\n",
    "# Customizing the plot\n",
    "plt.xlabel('Age')\n",
    "plt.ylabel('Avg House Price')\n",
    "plt.title('Age vs. Avg House Price')\n",
    "\n",
    "# Showing the plot\n",
    "plt.show()"
   ]
  },
  {
   "cell_type": "markdown",
   "id": "bd6c9fe0",
   "metadata": {},
   "source": [
    "## Probability and Statistics:\n",
    "\n",
    "The goal of these questions is to test your ability to answer probability and stat questions with code.   \n",
    "Use whatever libraries you are comfortable with.   \n",
    "Code clarity and cleanliness are also highly valuable.   \n"
   ]
  },
  {
   "cell_type": "markdown",
   "id": "61301af4",
   "metadata": {},
   "source": [
    "### 1. What's the probability of a customer having 2 kids"
   ]
  },
  {
   "cell_type": "code",
   "execution_count": 30,
   "id": "1485708f",
   "metadata": {},
   "outputs": [
    {
     "name": "stdout",
     "output_type": "stream",
     "text": [
      "The probability of a customer having 2 kids is: 0.10017142857142858\n"
     ]
    }
   ],
   "source": [
    "count = df_person_data['n_kids'].value_counts().get(2, 0)\n",
    "total = len(df_person_data)\n",
    "probability = count / total\n",
    "print(\"The probability of a customer having 2 kids is:\", probability)"
   ]
  },
  {
   "cell_type": "markdown",
   "id": "7fb4726c",
   "metadata": {},
   "source": [
    "### 2. What's the probability of a customer owning more than 10 video games given that they have less than 2 kids"
   ]
  },
  {
   "cell_type": "code",
   "execution_count": 31,
   "id": "3d46f98e",
   "metadata": {},
   "outputs": [
    {
     "name": "stdout",
     "output_type": "stream",
     "text": [
      "The probability of a customer owning more than 10 video games given less than 2 kids is: 0.4018363273453094\n"
     ]
    }
   ],
   "source": [
    "import pandas as pd\n",
    "\n",
    "filtered_data = df_person_data[df_person_data['n_kids'] < 2]\n",
    "kids_2 = len(filtered_data)\n",
    "\n",
    "game_10 = len(filtered_data[filtered_data['n_vg'] > 10])\n",
    "\n",
    "probability = game_10 / kids_2\n",
    "\n",
    "print(\"The probability of a customer owning more than 10 video games given less than 2 kids is:\", probability)"
   ]
  },
  {
   "cell_type": "markdown",
   "id": "075361d0",
   "metadata": {},
   "source": [
    "### 3. Plot the distribution of the number of hours played by customers `n_hours_playing`. Briefly explain what you understand now about the customers' playing hours."
   ]
  },
  {
   "cell_type": "code",
   "execution_count": 37,
   "id": "f56c99d3",
   "metadata": {},
   "outputs": [
    {
     "data": {
      "image/png": "[encoded data removed]",
      "text/plain": [
       "<Figure size 432x288 with 1 Axes>"
      ]
     },
     "metadata": {
      "needs_background": "light"
     },
     "output_type": "display_data"
    }
   ],
   "source": [
    "import seaborn as sns\n",
    "sns.histplot(data=df_person_data, x='n_hours_playing', kde=True)\n",
    "\n",
    "plt.xlabel('Number of Hours Played')\n",
    "plt.ylabel('Frequency')\n",
    "plt.title('Distribution of Playing Hours')\n",
    "plt.show()"
   ]
  },
  {
   "cell_type": "markdown",
   "id": "5a7f4f7e",
   "metadata": {},
   "source": [
    "As you can see, most customers have a number of hours less than 50 so let's go ahead and remove any values less than 50.  \n",
    "The distribution of the remaining values look like a normal distribution.  \n",
    "###  4. Estimate the parameters (mean and std deviation) of this normal distribution computationally.  \\\n",
    "### (Bonus: plot the estimated normal distribution on top of the distribution of `n_hours_playing` after removing values < 50)"
   ]
  },
  {
   "cell_type": "code",
   "execution_count": 34,
   "id": "3f339887",
   "metadata": {},
   "outputs": [
    {
     "name": "stdout",
     "output_type": "stream",
     "text": [
      "Mean: 17.851233445387887\n",
      "Standard Deviation: 7.832839972147522\n"
     ]
    }
   ],
   "source": [
    "import numpy as np\n",
    "lower_50 = df_person_data[df_person_data['n_hours_playing']<50]\n",
    "mean = np.mean(lower_50['n_hours_playing'])\n",
    "std_dev = np.std(lower_50['n_hours_playing'])\n",
    "print(\"Mean:\", mean)\n",
    "print(\"Standard Deviation:\", std_dev)"
   ]
  },
  {
   "cell_type": "markdown",
   "id": "2e96f859",
   "metadata": {},
   "source": [
    "# Modeling\n",
    "The goal of this is to showcase your experimentation and model comparison process.  \n",
    "The performance of models is not as important as how you compare them and evaluate them against each other.  \n",
    "\n",
    "Use whatever libraries you are comfortable with.   \n",
    "Code clarity and cleanliness are also highly valuable.   \n",
    "# Apply Different regression model \n",
    "# Apply two classffier Model for the data of classfication ( as per your choice)"
   ]
  },
  {
   "cell_type": "markdown",
   "id": "7e5b7332",
   "metadata": {},
   "source": [
    "### 1. Model the number of hours played for each customer. Show your experimentation with failed and successful models.\n",
    "### 2. Evaluate each experiment using appropriate metrics, cross validation, and plots. Show the predicted vs actual plot.\n",
    "### 3. Choose the best model for the data"
   ]
  },
  {
   "cell_type": "code",
   "execution_count": 43,
   "id": "990c1b30",
   "metadata": {},
   "outputs": [],
   "source": [
    "df = merged_df.copy()"
   ]
  },
  {
   "cell_type": "code",
   "execution_count": 44,
   "id": "0b7f773f",
   "metadata": {},
   "outputs": [],
   "source": [
    "df['house_price'] = df['house_price'].fillna(df['house_price'].mean())\n",
    "df['age'] = df['age'].fillna(df['house_price'].mean())"
   ]
  },
  {
   "cell_type": "code",
   "execution_count": 41,
   "id": "34ae5232",
   "metadata": {},
   "outputs": [],
   "source": [
    "from sklearn.preprocessing import LabelEncoder\n",
    "\n",
    "# Assuming you have a DataFrame named 'data' with a column 'category' containing categorical values\n",
    "\n",
    "# Create an instance of LabelEncoder\n",
    "label_encoder = LabelEncoder()\n",
    "\n",
    "# Encode the 'category' colum"
   ]
  },
  {
   "cell_type": "code",
   "execution_count": 49,
   "id": "06927a12",
   "metadata": {},
   "outputs": [],
   "source": [
    "X = df[['house_number', 'district', 'n_hours_playing','n_vg']]"
   ]
  },
  {
   "cell_type": "code",
   "execution_count": 50,
   "id": "a2a46b7e",
   "metadata": {},
   "outputs": [],
   "source": [
    "y= df['house_price']"
   ]
  },
  {
   "cell_type": "code",
   "execution_count": 52,
   "id": "ca1d1d1d",
   "metadata": {},
   "outputs": [],
   "source": [
    "from sklearn.preprocessing import LabelEncoder\n",
    "\n",
    "# Assuming you have a DataFrame named 'data' with a column 'category' containing categorical values\n",
    "\n",
    "# Create an instance of LabelEncoder\n",
    "label_encoder = LabelEncoder()\n",
    "\n",
    "# Encode the 'category' colum"
   ]
  },
  {
   "cell_type": "code",
   "execution_count": 53,
   "id": "b8988c9d",
   "metadata": {},
   "outputs": [],
   "source": [
    "for col in df.columns:\n",
    "    if df[col].dtypes == 'O':\n",
    "        df[col] = label_encoder.fit_transform(df[col])"
   ]
  },
  {
   "cell_type": "code",
   "execution_count": 54,
   "id": "8bdc3172",
   "metadata": {},
   "outputs": [],
   "source": [
    "df['house_price'] = df['house_price'].fillna(df['house_price'].mean())\n",
    "df['age'] = df['age'].fillna(df['house_price'].mean())"
   ]
  },
  {
   "cell_type": "code",
   "execution_count": 55,
   "id": "4afe9402",
   "metadata": {},
   "outputs": [],
   "source": [
    "from sklearn.preprocessing import LabelEncoder\n",
    "\n",
    "# Assuming you have a DataFrame named 'data' with a column 'category' containing categorical values\n",
    "\n",
    "# Create an instance of LabelEncoder\n",
    "label_encoder = LabelEncoder()\n",
    "\n",
    "# Encode the 'category' colum"
   ]
  },
  {
   "cell_type": "code",
   "execution_count": null,
   "id": "87276362",
   "metadata": {},
   "outputs": [],
   "source": []
  }
 ],
 "metadata": {
  "kernelspec": {
   "display_name": "Python 3 (ipykernel)",
   "language": "python",
   "name": "python3"
  },
  "language_info": {
   "codemirror_mode": {
    "name": "ipython",
    "version": 3
   },
   "file_extension": ".py",
   "mimetype": "text/x-python",
   "name": "python",
   "nbconvert_exporter": "python",
   "pygments_lexer": "ipython3",
   "version": "3.9.7"
  }
 },
 "nbformat": 4,
 "nbformat_minor": 5
}
